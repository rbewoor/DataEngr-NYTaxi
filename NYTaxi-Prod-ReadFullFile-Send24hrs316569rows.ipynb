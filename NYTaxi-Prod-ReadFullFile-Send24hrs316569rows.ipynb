{
 "cells": [
  {
   "cell_type": "code",
   "execution_count": 2,
   "metadata": {},
   "outputs": [
    {
     "name": "stdout",
     "output_type": "stream",
     "text": [
      "\n",
      "StartTime is: Tue Jan  1 12:34:33 2019\n",
      "Processed the 30000 th row of csv and sent to Kafka\n",
      "Processed the 60000 th row of csv and sent to Kafka\n",
      "Processed the 90000 th row of csv and sent to Kafka\n",
      "Processed the 120000 th row of csv and sent to Kafka\n",
      "Processed the 150000 th row of csv and sent to Kafka\n",
      "Processed the 180000 th row of csv and sent to Kafka\n",
      "Processed the 210000 th row of csv and sent to Kafka\n",
      "Processed the 240000 th row of csv and sent to Kafka\n",
      "Processed the 270000 th row of csv and sent to Kafka\n",
      "Processed the 300000 th row of csv and sent to Kafka\n",
      "Reached limit for first 24 hours and exiting last entry should have PickUp time of 01-06-2018  23:43:00\n",
      "\n",
      "\n",
      "Processed 316569 rows and sent\n",
      "\n",
      "EndTime is: Tue Jan  1 12:35:32 2019\n"
     ]
    }
   ],
   "source": [
    "# -*- coding: utf-8 -*-\n",
    "\"\"\"\n",
    "Created on Tue Jan  1 02:26:44 2019\n",
    "\n",
    "@author: RB\n",
    "\"\"\"\n",
    "from kafka import KafkaProducer\n",
    "from datetime import datetime\n",
    "import pandas as pd\n",
    "import csv\n",
    "\n",
    "print('\\nStartTime is:',datetime.now().strftime(\"%c\"))\n",
    "fileLocation = r'C:\\Everything\\01SRH-BDBA Acads\\Blk2-DataEngr\\NYTaxi\\testingData\\yellow_tripdata_2018-06-full.csv'\n",
    "topicName = 'TestNYTFullJuneButOnly24hrs'\n",
    "producer = KafkaProducer(bootstrap_servers='localhost:9092')\n",
    "rowsRead = 0\n",
    "with open(fileLocation, \"r\") as csv_file:\n",
    "    csv_reader = csv.reader(csv_file, delimiter=\",\")\n",
    "    for row in csv_reader:\n",
    "        rowsRead = rowsRead + 1\n",
    "        joinedRow = ','.join(row)\n",
    "        producer.send(topicName, joinedRow.encode('utf-8'))\n",
    "        if rowsRead % 30000 == 0:\n",
    "#            print(f'Row={rowsRead}, Contents are:::\\n{joinedRow}' )\n",
    "            print(f'Processed the {rowsRead} th row of csv and sent to Kafka' )\n",
    "        if rowsRead == 316569:\n",
    "            print('Reached limit for first 24 hours and exiting last entry should have PickUp time of 01-06-2018  23:43:00')\n",
    "            break\n",
    "\n",
    "print(f\"\\n\\nProcessed {rowsRead} rows and sent\")\n",
    "print('\\nEndTime is:',datetime.now().strftime(\"%c\"))"
   ]
  },
  {
   "cell_type": "code",
   "execution_count": null,
   "metadata": {},
   "outputs": [],
   "source": []
  }
 ],
 "metadata": {
  "kernelspec": {
   "display_name": "Python 3",
   "language": "python",
   "name": "python3"
  },
  "language_info": {
   "codemirror_mode": {
    "name": "ipython",
    "version": 3
   },
   "file_extension": ".py",
   "mimetype": "text/x-python",
   "name": "python",
   "nbconvert_exporter": "python",
   "pygments_lexer": "ipython3",
   "version": "3.7.0"
  }
 },
 "nbformat": 4,
 "nbformat_minor": 2
}
